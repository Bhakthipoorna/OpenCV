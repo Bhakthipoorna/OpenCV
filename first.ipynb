{
 "cells": [
  {
   "cell_type": "code",
   "execution_count": 1,
   "metadata": {},
   "outputs": [],
   "source": [
    "#To import openCV got to anaconda prompt and \n",
    "# conda install -c conda-forge opencv     ...next again in prompt\n",
    "# pip install opencv-contrib-python\n"
   ]
  },
  {
   "cell_type": "code",
   "execution_count": 1,
   "metadata": {},
   "outputs": [],
   "source": [
    "import cv2"
   ]
  },
  {
   "cell_type": "code",
   "execution_count": 2,
   "metadata": {},
   "outputs": [],
   "source": [
    "#imread will load the image \n",
    "input=cv2.imread(r\"C:\\Users\\user\\Desktop\\python\\opencv\\Images\\elephant.jpg\") # r is raw, i got error while running without r\n",
    "#Now the image is stored in python \n",
    "\n",
    "#imshow variable is used to display image\n",
    "#first parameter referred to tittle to be shown in the window\n",
    "#second parameter is tha image variable\n",
    "cv2.imshow('This is elephant', input)\n",
    "\n",
    "#'waitKey' allows us to input information when a image window is open\n",
    "# by leaving it blank it just waits for any key to be pressed before\n",
    "#By placing a number it we can specify a time(except 0) for the window(ex. cv2.waitKey(2000) in mili seconds)\n",
    "cv2.waitKey()\n",
    "\n",
    "#This closes all open window\n",
    "# Failure to place this will cause your program to hang\n",
    "cv2.destroyAllWindows()"
   ]
  },
  {
   "cell_type": "markdown",
   "metadata": {},
   "source": [
    "lets have a close look into the image is stored"
   ]
  },
  {
   "cell_type": "code",
   "execution_count": 5,
   "metadata": {},
   "outputs": [
    {
     "data": {
      "text/plain": [
       "(866, 1300, 3)"
      ]
     },
     "execution_count": 5,
     "metadata": {},
     "output_type": "execute_result"
    }
   ],
   "source": [
    "import numpy as np\n",
    "input.shape    # height is 866 pixels, width is 1300 pixels with a rgb channel(i.e., 3)"
   ]
  },
  {
   "cell_type": "markdown",
   "metadata": {},
   "source": [
    "To edit image"
   ]
  },
  {
   "cell_type": "code",
   "execution_count": 6,
   "metadata": {},
   "outputs": [
    {
     "data": {
      "text/plain": [
       "True"
      ]
     },
     "execution_count": 6,
     "metadata": {},
     "output_type": "execute_result"
    }
   ],
   "source": [
    "cv2.imwrite('output.jpg',input)\n",
    "cv2.imwrite('output.png',input)  #go and check in the folder, ther will be 2 new files added"
   ]
  },
  {
   "cell_type": "code",
   "execution_count": null,
   "metadata": {},
   "outputs": [],
   "source": []
  }
 ],
 "metadata": {
  "kernelspec": {
   "display_name": "Python 3",
   "language": "python",
   "name": "python3"
  },
  "language_info": {
   "codemirror_mode": {
    "name": "ipython",
    "version": 3
   },
   "file_extension": ".py",
   "mimetype": "text/x-python",
   "name": "python",
   "nbconvert_exporter": "python",
   "pygments_lexer": "ipython3",
   "version": "3.7.6"
  }
 },
 "nbformat": 4,
 "nbformat_minor": 4
}
